{
 "cells": [
  {
   "cell_type": "code",
   "execution_count": 20,
   "metadata": {},
   "outputs": [
    {
     "name": "stderr",
     "output_type": "stream",
     "text": [
      "[nltk_data] Downloading package stopwords to\n",
      "[nltk_data]     C:\\Users\\adity\\AppData\\Roaming\\nltk_data...\n",
      "[nltk_data]   Package stopwords is already up-to-date!\n",
      "[nltk_data] Downloading package punkt to\n",
      "[nltk_data]     C:\\Users\\adity\\AppData\\Roaming\\nltk_data...\n",
      "[nltk_data]   Package punkt is already up-to-date!\n",
      "[nltk_data] Downloading package wordnet to\n",
      "[nltk_data]     C:\\Users\\adity\\AppData\\Roaming\\nltk_data...\n",
      "[nltk_data]   Package wordnet is already up-to-date!\n",
      "[nltk_data] Downloading package omw-1.4 to\n",
      "[nltk_data]     C:\\Users\\adity\\AppData\\Roaming\\nltk_data...\n",
      "[nltk_data]   Package omw-1.4 is already up-to-date!\n"
     ]
    },
    {
     "data": {
      "text/plain": [
       "True"
      ]
     },
     "execution_count": 20,
     "metadata": {},
     "output_type": "execute_result"
    }
   ],
   "source": [
    "import os\n",
    "from unicodedata import decomposition\n",
    "import pandas as pd\n",
    "import numpy as np\n",
    "import gzip ## library to read zipped files\n",
    "\n",
    "from collections import Counter\n",
    "import re\n",
    "import string\n",
    "\n",
    "import matplotlib.pyplot as plt\n",
    "import seaborn as sns\n",
    "from wordcloud import WordCloud\n",
    "\n",
    "from sklearn.feature_extraction.text import TfidfVectorizer,CountVectorizer\n",
    "from sklearn import decomposition\n",
    "\n",
    "from sklearn.model_selection import train_test_split\n",
    "\n",
    "import nltk \n",
    "from nltk.corpus import stopwords \n",
    "from nltk.tokenize import word_tokenize\n",
    "from nltk.stem import WordNetLemmatizer\n",
    "from nltk.stem.porter import PorterStemmer\n",
    "from nltk.stem.lancaster import LancasterStemmer\n",
    "nltk.download('stopwords')\n",
    "nltk.download('punkt')\n",
    "nltk.download('wordnet')\n",
    "nltk.download('omw-1.4')\n"
   ]
  },
  {
   "cell_type": "markdown",
   "metadata": {},
   "source": [
    "### Load Data"
   ]
  },
  {
   "cell_type": "code",
   "execution_count": 21,
   "metadata": {},
   "outputs": [
    {
     "data": {
      "text/html": [
       "<div>\n",
       "<style scoped>\n",
       "    .dataframe tbody tr th:only-of-type {\n",
       "        vertical-align: middle;\n",
       "    }\n",
       "\n",
       "    .dataframe tbody tr th {\n",
       "        vertical-align: top;\n",
       "    }\n",
       "\n",
       "    .dataframe thead th {\n",
       "        text-align: right;\n",
       "    }\n",
       "</style>\n",
       "<table border=\"1\" class=\"dataframe\">\n",
       "  <thead>\n",
       "    <tr style=\"text-align: right;\">\n",
       "      <th></th>\n",
       "      <th>Unnamed: 0</th>\n",
       "      <th>questionType</th>\n",
       "      <th>asin</th>\n",
       "      <th>answerTime</th>\n",
       "      <th>unixTime</th>\n",
       "      <th>question</th>\n",
       "      <th>answerType</th>\n",
       "      <th>answer</th>\n",
       "    </tr>\n",
       "  </thead>\n",
       "  <tbody>\n",
       "    <tr>\n",
       "      <th>0</th>\n",
       "      <td>0</td>\n",
       "      <td>yes/no</td>\n",
       "      <td>B00000K4MC</td>\n",
       "      <td>Nov 4, 2014</td>\n",
       "      <td>1.415088e+09</td>\n",
       "      <td>Will it work with Windows 8?</td>\n",
       "      <td>Y</td>\n",
       "      <td>You should look here: http://steamcommunity.co...</td>\n",
       "    </tr>\n",
       "    <tr>\n",
       "      <th>1</th>\n",
       "      <td>1</td>\n",
       "      <td>yes/no</td>\n",
       "      <td>B00000K4MC</td>\n",
       "      <td>Nov 29, 2014</td>\n",
       "      <td>1.417248e+09</td>\n",
       "      <td>Will it work on Windows 7 ?</td>\n",
       "      <td>Y</td>\n",
       "      <td>Yes</td>\n",
       "    </tr>\n",
       "  </tbody>\n",
       "</table>\n",
       "</div>"
      ],
      "text/plain": [
       "   Unnamed: 0 questionType        asin    answerTime      unixTime  \\\n",
       "0           0       yes/no  B00000K4MC   Nov 4, 2014  1.415088e+09   \n",
       "1           1       yes/no  B00000K4MC  Nov 29, 2014  1.417248e+09   \n",
       "\n",
       "                       question answerType  \\\n",
       "0  Will it work with Windows 8?          Y   \n",
       "1   Will it work on Windows 7 ?          Y   \n",
       "\n",
       "                                              answer  \n",
       "0  You should look here: http://steamcommunity.co...  \n",
       "1                                                Yes  "
      ]
     },
     "execution_count": 21,
     "metadata": {},
     "output_type": "execute_result"
    }
   ],
   "source": [
    "qa_df = pd.read_csv('data.csv')\n",
    "qa_df.head(2)"
   ]
  },
  {
   "cell_type": "code",
   "execution_count": 22,
   "metadata": {},
   "outputs": [
    {
     "data": {
      "text/html": [
       "<div>\n",
       "<style scoped>\n",
       "    .dataframe tbody tr th:only-of-type {\n",
       "        vertical-align: middle;\n",
       "    }\n",
       "\n",
       "    .dataframe tbody tr th {\n",
       "        vertical-align: top;\n",
       "    }\n",
       "\n",
       "    .dataframe thead th {\n",
       "        text-align: right;\n",
       "    }\n",
       "</style>\n",
       "<table border=\"1\" class=\"dataframe\">\n",
       "  <thead>\n",
       "    <tr style=\"text-align: right;\">\n",
       "      <th></th>\n",
       "      <th>question</th>\n",
       "      <th>answer</th>\n",
       "    </tr>\n",
       "  </thead>\n",
       "  <tbody>\n",
       "    <tr>\n",
       "      <th>0</th>\n",
       "      <td>Will it work with Windows 8?</td>\n",
       "      <td>You should look here: http://steamcommunity.co...</td>\n",
       "    </tr>\n",
       "    <tr>\n",
       "      <th>1</th>\n",
       "      <td>Will it work on Windows 7 ?</td>\n",
       "      <td>Yes</td>\n",
       "    </tr>\n",
       "  </tbody>\n",
       "</table>\n",
       "</div>"
      ],
      "text/plain": [
       "                       question  \\\n",
       "0  Will it work with Windows 8?   \n",
       "1   Will it work on Windows 7 ?   \n",
       "\n",
       "                                              answer  \n",
       "0  You should look here: http://steamcommunity.co...  \n",
       "1                                                Yes  "
      ]
     },
     "execution_count": 22,
     "metadata": {},
     "output_type": "execute_result"
    }
   ],
   "source": [
    "qa_df = qa_df[['question','answer']]\n",
    "qa_df.head(2)\n"
   ]
  },
  {
   "cell_type": "code",
   "execution_count": 23,
   "metadata": {},
   "outputs": [],
   "source": [
    "def regex_clean(txt, regex):\n",
    "    \"\"\"Replace any text matching the regex\n",
    "\n",
    "    Parameters\n",
    "    ----------\n",
    "    txt : string\n",
    "        A text string that you want to parse and remove matches\n",
    "    regex : string \n",
    "        A text string of the regex pattern you want to match\n",
    "\n",
    "    Returns\n",
    "    -------\n",
    "    The same txt string with the matches removes\n",
    "    \"\"\"\n",
    "\n",
    "    return \" \".join(re.sub(regex, \"\", txt).split())\n",
    "\n",
    "def remove_emoji(string):\n",
    "    emoji_pattern = re.compile(\"[\"\n",
    "                           u\"\\U0001F600-\\U0001F64F\" # emoticons\n",
    "                           u\"\\U0001F300-\\U0001F5FF\" # symbols & pictographs\n",
    "                           u\"\\U0001F680-\\U0001F6FF\" # transport & map symbols\n",
    "                           u\"\\U0001F1E0-\\U0001F1FF\" # flags (iOS)\n",
    "                           u\"\\U00002702-\\U000027B0\"\n",
    "                           u\"\\U000024C2-\\U0001F251\"\n",
    "                           \"]+\", flags=re.UNICODE)\n",
    "    return emoji_pattern.sub(r'', string)\n",
    "\n",
    "\n",
    "    "
   ]
  },
  {
   "cell_type": "code",
   "execution_count": 24,
   "metadata": {},
   "outputs": [
    {
     "data": {
      "text/html": [
       "<div>\n",
       "<style scoped>\n",
       "    .dataframe tbody tr th:only-of-type {\n",
       "        vertical-align: middle;\n",
       "    }\n",
       "\n",
       "    .dataframe tbody tr th {\n",
       "        vertical-align: top;\n",
       "    }\n",
       "\n",
       "    .dataframe thead th {\n",
       "        text-align: right;\n",
       "    }\n",
       "</style>\n",
       "<table border=\"1\" class=\"dataframe\">\n",
       "  <thead>\n",
       "    <tr style=\"text-align: right;\">\n",
       "      <th></th>\n",
       "      <th>question</th>\n",
       "      <th>answer</th>\n",
       "    </tr>\n",
       "  </thead>\n",
       "  <tbody>\n",
       "    <tr>\n",
       "      <th>0</th>\n",
       "      <td>will it work with windows 8?</td>\n",
       "      <td>you should look here: http://steamcommunity.co...</td>\n",
       "    </tr>\n",
       "    <tr>\n",
       "      <th>1</th>\n",
       "      <td>will it work on windows 7 ?</td>\n",
       "      <td>yes</td>\n",
       "    </tr>\n",
       "  </tbody>\n",
       "</table>\n",
       "</div>"
      ],
      "text/plain": [
       "                       question  \\\n",
       "0  will it work with windows 8?   \n",
       "1   will it work on windows 7 ?   \n",
       "\n",
       "                                              answer  \n",
       "0  you should look here: http://steamcommunity.co...  \n",
       "1                                                yes  "
      ]
     },
     "execution_count": 24,
     "metadata": {},
     "output_type": "execute_result"
    }
   ],
   "source": [
    "# convert to lowercase\n",
    "qa_df['question'] = qa_df['question'].apply(str.lower)\n",
    "qa_df['answer'] = qa_df['answer'].apply(str.lower)\n",
    "qa_df.head(2)"
   ]
  },
  {
   "cell_type": "code",
   "execution_count": 25,
   "metadata": {},
   "outputs": [
    {
     "data": {
      "text/html": [
       "<div>\n",
       "<style scoped>\n",
       "    .dataframe tbody tr th:only-of-type {\n",
       "        vertical-align: middle;\n",
       "    }\n",
       "\n",
       "    .dataframe tbody tr th {\n",
       "        vertical-align: top;\n",
       "    }\n",
       "\n",
       "    .dataframe thead th {\n",
       "        text-align: right;\n",
       "    }\n",
       "</style>\n",
       "<table border=\"1\" class=\"dataframe\">\n",
       "  <thead>\n",
       "    <tr style=\"text-align: right;\">\n",
       "      <th></th>\n",
       "      <th>question</th>\n",
       "      <th>answer</th>\n",
       "    </tr>\n",
       "  </thead>\n",
       "  <tbody>\n",
       "    <tr>\n",
       "      <th>0</th>\n",
       "      <td>will it work with windows 8?</td>\n",
       "      <td>you should look here: after the game was rerel...</td>\n",
       "    </tr>\n",
       "    <tr>\n",
       "      <th>1</th>\n",
       "      <td>will it work on windows?</td>\n",
       "      <td>yes</td>\n",
       "    </tr>\n",
       "  </tbody>\n",
       "</table>\n",
       "</div>"
      ],
      "text/plain": [
       "                       question  \\\n",
       "0  will it work with windows 8?   \n",
       "1      will it work on windows?   \n",
       "\n",
       "                                              answer  \n",
       "0  you should look here: after the game was rerel...  \n",
       "1                                                yes  "
      ]
     },
     "execution_count": 25,
     "metadata": {},
     "output_type": "execute_result"
    }
   ],
   "source": [
    "\n",
    "regex_to_clean = [r'\\s\\d+\\s',\n",
    "                  r'(//t.co/.+?)\\s',\n",
    "                  r'(//t.co/.+?)',\n",
    "                  # remove url links\n",
    "                  r'(http|ftp|https):\\/\\/([\\w_-]+(?:(?:\\.[\\w_-]+)+))([\\w.,@?^=%&:\\/~+#-]*[\\w@?^=%&\\/~+#-])'\n",
    "                 ]\n",
    "\n",
    "for reg in regex_to_clean:\n",
    "    qa_df['question'] = qa_df['question'].apply(regex_clean, regex=reg)\n",
    "    qa_df['answer'] = qa_df['answer'].apply(regex_clean, regex=reg)\n",
    "    \n",
    "    \n",
    "qa_df['question'] = qa_df['question'].apply(remove_emoji)\n",
    "qa_df['answer'] = qa_df['answer'].apply(remove_emoji)\n",
    "qa_df.head(2)"
   ]
  },
  {
   "cell_type": "code",
   "execution_count": 26,
   "metadata": {},
   "outputs": [
    {
     "data": {
      "text/html": [
       "<div>\n",
       "<style scoped>\n",
       "    .dataframe tbody tr th:only-of-type {\n",
       "        vertical-align: middle;\n",
       "    }\n",
       "\n",
       "    .dataframe tbody tr th {\n",
       "        vertical-align: top;\n",
       "    }\n",
       "\n",
       "    .dataframe thead th {\n",
       "        text-align: right;\n",
       "    }\n",
       "</style>\n",
       "<table border=\"1\" class=\"dataframe\">\n",
       "  <thead>\n",
       "    <tr style=\"text-align: right;\">\n",
       "      <th></th>\n",
       "      <th>question</th>\n",
       "      <th>answer</th>\n",
       "    </tr>\n",
       "  </thead>\n",
       "  <tbody>\n",
       "    <tr>\n",
       "      <th>0</th>\n",
       "      <td>will it work with windows 8</td>\n",
       "      <td>you should look here after the game was rerele...</td>\n",
       "    </tr>\n",
       "    <tr>\n",
       "      <th>1</th>\n",
       "      <td>will it work on windows</td>\n",
       "      <td>yes</td>\n",
       "    </tr>\n",
       "    <tr>\n",
       "      <th>2</th>\n",
       "      <td>is there a digital download of this game</td>\n",
       "      <td>you can buy rollercoaster tycoon deluxe which ...</td>\n",
       "    </tr>\n",
       "    <tr>\n",
       "      <th>3</th>\n",
       "      <td>will this work on a mac</td>\n",
       "      <td>sorry to tell you terresa it won t play</td>\n",
       "    </tr>\n",
       "    <tr>\n",
       "      <th>4</th>\n",
       "      <td>i have a new computer with the latest greatest...</td>\n",
       "      <td>this game plays on my lap top just fine if ur ...</td>\n",
       "    </tr>\n",
       "  </tbody>\n",
       "</table>\n",
       "</div>"
      ],
      "text/plain": [
       "                                            question  \\\n",
       "0                       will it work with windows 8    \n",
       "1                           will it work on windows    \n",
       "2          is there a digital download of this game    \n",
       "3                            will this work on a mac   \n",
       "4  i have a new computer with the latest greatest...   \n",
       "\n",
       "                                              answer  \n",
       "0  you should look here after the game was rerele...  \n",
       "1                                                yes  \n",
       "2  you can buy rollercoaster tycoon deluxe which ...  \n",
       "3            sorry to tell you terresa it won t play  \n",
       "4  this game plays on my lap top just fine if ur ...  "
      ]
     },
     "execution_count": 26,
     "metadata": {},
     "output_type": "execute_result"
    }
   ],
   "source": [
    "# Function to clean special and html tags\n",
    "def clean_special(text):\n",
    "\n",
    "    # remove html tags\n",
    "    clean = re.sub('<.*?>', ' ', text)\n",
    "\n",
    "    # remove specail characters \n",
    "    clean = re.sub('\\W+',' ', clean)\n",
    "    return clean\n",
    "\n",
    "qa_df['question']=qa_df['question'].apply(clean_special)\n",
    "qa_df['answer']=qa_df['answer'].apply(clean_special)\n",
    "\n",
    "qa_df.head()"
   ]
  },
  {
   "cell_type": "markdown",
   "metadata": {},
   "source": [
    "### Stopword removal"
   ]
  },
  {
   "cell_type": "code",
   "execution_count": 27,
   "metadata": {},
   "outputs": [],
   "source": [
    "stpwrds = nltk.corpus.stopwords.words('english')"
   ]
  },
  {
   "cell_type": "code",
   "execution_count": 28,
   "metadata": {},
   "outputs": [],
   "source": [
    "punc = '!\"#$%&()*+, -./:;<=>?@[\\]^_`{|}~”“\\''\n",
    "\n",
    "punc = [x for x in punc]"
   ]
  },
  {
   "cell_type": "code",
   "execution_count": 29,
   "metadata": {},
   "outputs": [],
   "source": [
    "stpwrds.extend(['rt', '#', 'fav', '', ':', '@', '!', ';', '…','...', '(', ')', 'using', 'via','https',\"'\",'‘'])\n",
    "stpwrds.extend(punc)"
   ]
  },
  {
   "cell_type": "code",
   "execution_count": 37,
   "metadata": {},
   "outputs": [],
   "source": [
    "def prep_data(review):\n",
    "    \"\"\" Cleans up a review!\n",
    "\n",
    "    Parameters\n",
    "    ----------\n",
    "    review : string\n",
    "        A text string that you want to parse and remove matches\n",
    "\n",
    "    Returns\n",
    "    -------\n",
    "    Cleaned up string - tokenized & stemmed!\n",
    "    \"\"\"   \n",
    "    \n",
    "    ## Pre Token Cleaning - Stuff that applies to a string.\n",
    "    \n",
    "    review = review.lower() \n",
    "    review = regex_clean(review, r'\\s\\d+\\s')\n",
    "\n",
    "    ## Go-Go-Token-Rangers\n",
    "    review = word_tokenize(review)\n",
    "\n",
    "    ## Post Token Cleaning - Stuff that applies to a list \n",
    "        \n",
    "    lemma = WordNetLemmatizer()\n",
    "\n",
    "    review = [lemma.lemmatize(word) for word in review]\n",
    "    review = [word for word in review if word not in stpwrds]\n",
    "    \n",
    "    return review"
   ]
  },
  {
   "cell_type": "code",
   "execution_count": 38,
   "metadata": {},
   "outputs": [],
   "source": [
    "cleaned_qns = [\" \".join(prep_data(x)) for x in qa_df['question']]\n",
    "cleaned_ans = [\" \".join(prep_data(x)) for x in qa_df['answer']]"
   ]
  },
  {
   "cell_type": "code",
   "execution_count": 39,
   "metadata": {},
   "outputs": [
    {
     "data": {
      "text/plain": [
       "['work window', 'work window', 'digital download game']"
      ]
     },
     "execution_count": 39,
     "metadata": {},
     "output_type": "execute_result"
    }
   ],
   "source": [
    "cleaned_qns[:3]"
   ]
  },
  {
   "cell_type": "code",
   "execution_count": null,
   "metadata": {},
   "outputs": [],
   "source": []
  }
 ],
 "metadata": {
  "kernelspec": {
   "display_name": "Python 3.10.4 ('env_pytorch')",
   "language": "python",
   "name": "python3"
  },
  "language_info": {
   "codemirror_mode": {
    "name": "ipython",
    "version": 3
   },
   "file_extension": ".py",
   "mimetype": "text/x-python",
   "name": "python",
   "nbconvert_exporter": "python",
   "pygments_lexer": "ipython3",
   "version": "3.10.4"
  },
  "orig_nbformat": 4,
  "vscode": {
   "interpreter": {
    "hash": "c2d5e71f59c2e4535768c8af4272ebdceb904fbebd50d6958e23c04b61c10198"
   }
  }
 },
 "nbformat": 4,
 "nbformat_minor": 2
}
